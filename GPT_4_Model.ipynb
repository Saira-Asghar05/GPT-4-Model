{
  "nbformat": 4,
  "nbformat_minor": 0,
  "metadata": {
    "colab": {
      "provenance": []
    },
    "kernelspec": {
      "name": "python3",
      "display_name": "Python 3"
    },
    "language_info": {
      "name": "python"
    }
  },
  "cells": [
    {
      "cell_type": "code",
      "execution_count": 7,
      "metadata": {
        "id": "MzEvHS3LKjSL",
        "colab": {
          "base_uri": "https://localhost:8080/"
        },
        "outputId": "4a47a451-130f-4bdf-ce39-f2b48612ef12"
      },
      "outputs": [
        {
          "output_type": "stream",
          "name": "stdout",
          "text": [
            "Requirement already satisfied: clarifai in /usr/local/lib/python3.10/dist-packages (9.11.1)\n",
            "Requirement already satisfied: clarifai-grpc~=9.11.5 in /usr/local/lib/python3.10/dist-packages (from clarifai) (9.11.5)\n",
            "Requirement already satisfied: pandas>=1.3.5 in /usr/local/lib/python3.10/dist-packages (from clarifai) (1.5.3)\n",
            "Requirement already satisfied: numpy>=1.22.0 in /usr/local/lib/python3.10/dist-packages (from clarifai) (1.23.5)\n",
            "Requirement already satisfied: tqdm>=4.65.0 in /usr/local/lib/python3.10/dist-packages (from clarifai) (4.66.1)\n",
            "Requirement already satisfied: opencv-python>=4.7.0.68 in /usr/local/lib/python3.10/dist-packages (from clarifai) (4.8.0.76)\n",
            "Requirement already satisfied: tritonclient>=2.34.0 in /usr/local/lib/python3.10/dist-packages (from clarifai) (2.41.0)\n",
            "Requirement already satisfied: rich>=13.4.2 in /usr/local/lib/python3.10/dist-packages (from clarifai) (13.7.0)\n",
            "Requirement already satisfied: PyYAML>=6.0.1 in /usr/local/lib/python3.10/dist-packages (from clarifai) (6.0.1)\n",
            "Requirement already satisfied: schema>=0.7.5 in /usr/local/lib/python3.10/dist-packages (from clarifai) (0.7.5)\n",
            "Requirement already satisfied: Pillow>=9.5.0 in /usr/local/lib/python3.10/dist-packages (from clarifai) (10.2.0)\n",
            "Requirement already satisfied: grpcio>=1.44.0 in /usr/local/lib/python3.10/dist-packages (from clarifai-grpc~=9.11.5->clarifai) (1.60.0)\n",
            "Requirement already satisfied: protobuf>=3.20.3 in /usr/local/lib/python3.10/dist-packages (from clarifai-grpc~=9.11.5->clarifai) (3.20.3)\n",
            "Requirement already satisfied: googleapis-common-protos>=1.53.0 in /usr/local/lib/python3.10/dist-packages (from clarifai-grpc~=9.11.5->clarifai) (1.62.0)\n",
            "Requirement already satisfied: requests>=2.25.1 in /usr/local/lib/python3.10/dist-packages (from clarifai-grpc~=9.11.5->clarifai) (2.31.0)\n",
            "Requirement already satisfied: python-dateutil>=2.8.1 in /usr/local/lib/python3.10/dist-packages (from pandas>=1.3.5->clarifai) (2.8.2)\n",
            "Requirement already satisfied: pytz>=2020.1 in /usr/local/lib/python3.10/dist-packages (from pandas>=1.3.5->clarifai) (2023.3.post1)\n",
            "Requirement already satisfied: markdown-it-py>=2.2.0 in /usr/local/lib/python3.10/dist-packages (from rich>=13.4.2->clarifai) (3.0.0)\n",
            "Requirement already satisfied: pygments<3.0.0,>=2.13.0 in /usr/local/lib/python3.10/dist-packages (from rich>=13.4.2->clarifai) (2.16.1)\n",
            "Requirement already satisfied: contextlib2>=0.5.5 in /usr/local/lib/python3.10/dist-packages (from schema>=0.7.5->clarifai) (21.6.0)\n",
            "Requirement already satisfied: python-rapidjson>=0.9.1 in /usr/local/lib/python3.10/dist-packages (from tritonclient>=2.34.0->clarifai) (1.14)\n",
            "Requirement already satisfied: mdurl~=0.1 in /usr/local/lib/python3.10/dist-packages (from markdown-it-py>=2.2.0->rich>=13.4.2->clarifai) (0.1.2)\n",
            "Requirement already satisfied: six>=1.5 in /usr/local/lib/python3.10/dist-packages (from python-dateutil>=2.8.1->pandas>=1.3.5->clarifai) (1.16.0)\n",
            "Requirement already satisfied: charset-normalizer<4,>=2 in /usr/local/lib/python3.10/dist-packages (from requests>=2.25.1->clarifai-grpc~=9.11.5->clarifai) (3.3.2)\n",
            "Requirement already satisfied: idna<4,>=2.5 in /usr/local/lib/python3.10/dist-packages (from requests>=2.25.1->clarifai-grpc~=9.11.5->clarifai) (3.6)\n",
            "Requirement already satisfied: urllib3<3,>=1.21.1 in /usr/local/lib/python3.10/dist-packages (from requests>=2.25.1->clarifai-grpc~=9.11.5->clarifai) (2.0.7)\n",
            "Requirement already satisfied: certifi>=2017.4.17 in /usr/local/lib/python3.10/dist-packages (from requests>=2.25.1->clarifai-grpc~=9.11.5->clarifai) (2023.11.17)\n"
          ]
        }
      ],
      "source": [
        "!pip install -U clarifai"
      ]
    },
    {
      "cell_type": "code",
      "source": [
        "%env CLARIFAI_PAT=\n"
      ],
      "metadata": {
        "colab": {
          "base_uri": "https://localhost:8080/"
        },
        "id": "YQeTeWIPT8zc",
        "outputId": "02d87c9b-9bff-4338-a320-8a4d7beb241e"
      },
      "execution_count": 13,
      "outputs": [
        {
          "output_type": "stream",
          "name": "stdout",
          "text": [
            "env: CLARIFAI_PAT=\n"
          ]
        }
      ]
    },
    {
      "cell_type": "code",
      "source": [
        "gpt_4_model = Model(\"https://clarifai.com/openai/chat-completion/models/GPT-4\")\n",
        "\n",
        "query_text = \"\"\"What is the best way to invest my money? I have a 401(k) and a Roth IRA.\n",
        "I also have a savings account. I want to make sure I am doing the best I can for my money\"\"\"\n",
        "\n",
        "inference_params = dict(temperature=str(0.2), max_tokens=100)\n",
        "print(gpt_4_model.predict_by_bytes(input_bytes=bytes(query_text, 'utf-8'),\n",
        "                                   input_type=\"text\",\n",
        "                                   inference_params=inference_params))"
      ],
      "metadata": {
        "colab": {
          "base_uri": "https://localhost:8080/"
        },
        "id": "2zqUBgtmgELB",
        "outputId": "44dc2adf-7498-44a3-c352-cdca863b5f02"
      },
      "execution_count": 12,
      "outputs": [
        {
          "output_type": "stream",
          "name": "stdout",
          "text": [
            "status {\n",
            "  code: SUCCESS\n",
            "  description: \"Ok\"\n",
            "  req_id: \"c3716cd98d473b867c4944a4adce41df\"\n",
            "}\n",
            "outputs {\n",
            "  id: \"4b11164ffbfe412ab0188d1918007a06\"\n",
            "  status {\n",
            "    code: SUCCESS\n",
            "    description: \"Ok\"\n",
            "  }\n",
            "  created_at {\n",
            "    seconds: 1704372385\n",
            "    nanos: 792090073\n",
            "  }\n",
            "  model {\n",
            "    id: \"GPT-4\"\n",
            "    name: \"GPT-4\"\n",
            "    created_at {\n",
            "      seconds: 1686246007\n",
            "      nanos: 964967000\n",
            "    }\n",
            "    app_id: \"chat-completion\"\n",
            "    model_version {\n",
            "      id: \"5d7a50b44aec4a01a9c492c5a5fcf387\"\n",
            "      created_at {\n",
            "        seconds: 1699559876\n",
            "        nanos: 961259000\n",
            "      }\n",
            "      status {\n",
            "        code: MODEL_TRAINED\n",
            "        description: \"Model is trained and ready\"\n",
            "      }\n",
            "      completed_at {\n",
            "        seconds: 1699560048\n",
            "        nanos: 933172000\n",
            "      }\n",
            "      visibility {\n",
            "        gettable: PUBLIC\n",
            "      }\n",
            "      app_id: \"chat-completion\"\n",
            "      user_id: \"openai\"\n",
            "      metadata {\n",
            "      }\n",
            "    }\n",
            "    user_id: \"openai\"\n",
            "    model_type_id: \"text-to-text\"\n",
            "    visibility {\n",
            "      gettable: PUBLIC\n",
            "    }\n",
            "    modified_at {\n",
            "      seconds: 1701689994\n",
            "      nanos: 587604000\n",
            "    }\n",
            "    workflow_recommended {\n",
            "    }\n",
            "    image {\n",
            "      url: \"https://data.clarifai.com/small/users/openai/apps/chat-completion/inputs/image/34326a9914d361bb93ae8e5381689755\"\n",
            "      hosted {\n",
            "        prefix: \"https://data.clarifai.com\"\n",
            "        suffix: \"users/openai/apps/chat-completion/inputs/image/34326a9914d361bb93ae8e5381689755\"\n",
            "        sizes: \"small\"\n",
            "        crossorigin: \"use-credentials\"\n",
            "      }\n",
            "    }\n",
            "  }\n",
            "  input {\n",
            "    id: \"a2fcdc75c705468e903dca1e78a1d31b\"\n",
            "    data {\n",
            "      text {\n",
            "        raw: \"What is the best way to invest my money? I have a 401(k) and a Roth IRA.\\nI also have a savings account. I want to make sure I am doing the best I can for my money\"\n",
            "        url: \"https://samples.clarifai.com/placeholder.gif\"\n",
            "      }\n",
            "    }\n",
            "  }\n",
            "  data {\n",
            "    text {\n",
            "      raw: \"Investing your money wisely is crucial for your financial future. Here are some strategies you might consider:\\n\\n1. Diversify Your Portfolio: Don\\'t put all your eggs in one basket. Diversify your investments across different asset classes like stocks, bonds, real estate, etc. This can help to minimize risk.\\n\\n2. Regularly Contribute to Your Retirement Accounts: You\\'re already on the right track with a 401(k) and a Roth IRA. Make sure you\\'re contributing regularly to\"\n",
            "      text_info {\n",
            "        encoding: \"UnknownTextEnc\"\n",
            "      }\n",
            "    }\n",
            "  }\n",
            "}\n",
            "\n"
          ]
        }
      ]
    }
  ]
}